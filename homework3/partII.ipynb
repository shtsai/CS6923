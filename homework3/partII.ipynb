{
 "cells": [
  {
   "cell_type": "markdown",
   "metadata": {
    "collapsed": true
   },
   "source": [
    "## CS6923 Machine Learning\n",
    "### Homework 3\n",
    "### Shang-Hung Tsai"
   ]
  },
  {
   "cell_type": "markdown",
   "metadata": {},
   "source": [
    "### Part 2"
   ]
  },
  {
   "cell_type": "markdown",
   "metadata": {},
   "source": [
    "#### 1.<br>\n",
    "![plot](part2_1a.png)"
   ]
  },
  {
   "cell_type": "markdown",
   "metadata": {},
   "source": [
    "(a) <br>\n",
    "Local minimum = -0.364224 <br>\n",
    "Global minimum = 1.595315"
   ]
  },
  {
   "cell_type": "markdown",
   "metadata": {},
   "source": [
    "(b)\n",
    "With $x = -1, \\eta = 0.001, iteration = 5$ <br>\n",
    "After iteration 1, the x = -0.866000 <br>\n",
    "After iteration 2, the x = -0.776295 <br>\n",
    "After iteration 3, the x = -0.710922 <br>\n",
    "After iteration 4, the x = -0.660782 <br>\n",
    "After iteration 5, the x = -0.620972 <br>"
   ]
  },
  {
   "cell_type": "markdown",
   "metadata": {},
   "source": [
    "With $x = -1, \\eta = 0.001, iteration = 1000$ <br>\n",
    "last 5 iterations: <br>\n",
    "After iteration 996, the x = -0.364224 <br>\n",
    "After iteration 997, the x = -0.364224 <br>\n",
    "After iteration 998, the x = -0.364224 <br>\n",
    "After iteration 999, the x = -0.364224 <br>\n",
    "After iteration 1000, the x = -0.364224 <br>"
   ]
  },
  {
   "cell_type": "markdown",
   "metadata": {},
   "source": [
    "The value of x has converged at -0.364224. The gradient descent found a local minimum."
   ]
  },
  {
   "cell_type": "markdown",
   "metadata": {},
   "source": [
    "(c)\n",
    "With $x = 2, \\eta = 0.001, iteration = 5$ <br>\n",
    "After iteration 1, the x = 1.894000 <br>\n",
    "After iteration 2, the x = 1.823848 <br>\n",
    "After iteration 3, the x = 1.774085 <br>\n",
    "After iteration 4, the x = 1.737261 <br>\n",
    "After iteration 5, the x = 1.709229 <br>"
   ]
  },
  {
   "cell_type": "markdown",
   "metadata": {},
   "source": [
    "With $x = 2, \\eta = 0.001, iteration = 1000$ <br>\n",
    "last 5 iterations: <br>\n",
    "After iteration 996, the x = 1.595315 <br>\n",
    "After iteration 997, the x = 1.595315 <br>\n",
    "After iteration 998, the x = 1.595315 <br>\n",
    "After iteration 999, the x = 1.595315 <br>\n",
    "After iteration 1000, the x = 1.595315 <br>"
   ]
  },
  {
   "cell_type": "markdown",
   "metadata": {},
   "source": [
    "The value of x has converged at 1.595315. The gradient descent found a global minimum."
   ]
  },
  {
   "cell_type": "markdown",
   "metadata": {},
   "source": [
    "(d)\n",
    "With $x = -1, \\eta = 0.01, iteration = 1000$ <br>\n",
    "first 5 iterations: <br>\n",
    "After iteration 1, the x = 0.340000 <br>\n",
    "After iteration 2, the x = 0.380221 <br>\n",
    "After iteration 3, the x = 0.444663 <br>\n",
    "After iteration 4, the x = 0.549356 <br>\n",
    "After iteration 5, the x = 0.720866 <br>\n",
    "last 5 iterations: <br>\n",
    "After iteration 996, the x = 1.595315 <br>\n",
    "After iteration 997, the x = 1.595315 <br>\n",
    "After iteration 998, the x = 1.595315 <br>\n",
    "After iteration 999, the x = 1.595315 <br>\n",
    "After iteration 1000, the x = 1.595315 <br>"
   ]
  },
  {
   "cell_type": "markdown",
   "metadata": {},
   "source": [
    "The learning rate was higher than the learning rate in the first experienment. The value of x jumped over to the other valley and found the global minimum."
   ]
  },
  {
   "cell_type": "markdown",
   "metadata": {},
   "source": [
    "(e) The learning rate is too high. The value of x bounced around significantly and eventually went overflow."
   ]
  },
  {
   "cell_type": "markdown",
   "metadata": {},
   "source": [
    "#### 2."
   ]
  },
  {
   "cell_type": "markdown",
   "metadata": {},
   "source": [
    "(a)"
   ]
  },
  {
   "cell_type": "markdown",
   "metadata": {},
   "source": [
    "i. ![plot](part2_2a.png)"
   ]
  },
  {
   "cell_type": "markdown",
   "metadata": {},
   "source": [
    "ii & iii."
   ]
  },
  {
   "cell_type": "markdown",
   "metadata": {},
   "source": [
    "Learning rate = 0.001000\n",
    "Cross-entropy error = 105.984951\n",
    "Classification error = 0.438889\n",
    "||w||2 = 2.173326\n",
    "<br>\n",
    "Learning rate = 0.010000\n",
    "Cross-entropy error = -10773.786202\n",
    "Classification error = 0.500000\n",
    "||w||2 = 432204430991968351779290630483453732119592206575285915615232.000000\n",
    "<br>\n",
    "Learning rate = 0.050000\n",
    "Cross-entropy error = -18096.478405\n",
    "Classification error = 0.500000\n",
    "||w||2 = 492530542859009687935432416931549876343778781310185093596562666928703973773238110922886829047808.000000\n",
    "<br>\n",
    "Learning rate = 0.100000\n",
    "Cross-entropy error = -21180.600537\n",
    "Classification error = 0.500000\n",
    "||w||2 = 756083024487492551104873433441395357474908560136069956460282937181910659609679892585035415516711250048277544960.000000\n",
    "<br>\n",
    "Learning rate = 0.500000\n",
    "Cross-entropy error = -28299.974771\n",
    "Classification error = 0.500000\n",
    "||w||2 = 85937181158274193397970235196668111754668556108276543807314716507583930383241624308917087112688675793697646474701076382965171521864453657760628736.000000\n",
    "<br>\n",
    "Learning rate = 1.000000\n",
    "Cross-entropy error = -31359.465439\n",
    "Classification error = 0.500000\n",
    "||w||2 = inf\n",
    "<br>\n",
    "Learning rate = 1.500000\n",
    "Cross-entropy error = -33148.470062\n",
    "Classification error = 0.500000\n",
    "||w||2 = inf"
   ]
  },
  {
   "cell_type": "markdown",
   "metadata": {},
   "source": [
    "(b)"
   ]
  },
  {
   "cell_type": "markdown",
   "metadata": {},
   "source": [
    "i."
   ]
  },
  {
   "cell_type": "markdown",
   "metadata": {},
   "source": [
    "ii."
   ]
  },
  {
   "cell_type": "markdown",
   "metadata": {},
   "source": []
  },
  {
   "cell_type": "markdown",
   "metadata": {},
   "source": []
  },
  {
   "cell_type": "markdown",
   "metadata": {},
   "source": []
  },
  {
   "cell_type": "markdown",
   "metadata": {},
   "source": []
  },
  {
   "cell_type": "markdown",
   "metadata": {},
   "source": []
  }
 ],
 "metadata": {
  "kernelspec": {
   "display_name": "Python 3",
   "language": "python",
   "name": "python3"
  },
  "language_info": {
   "codemirror_mode": {
    "name": "ipython",
    "version": 3
   },
   "file_extension": ".py",
   "mimetype": "text/x-python",
   "name": "python",
   "nbconvert_exporter": "python",
   "pygments_lexer": "ipython3",
   "version": "3.5.2"
  }
 },
 "nbformat": 4,
 "nbformat_minor": 1
}
