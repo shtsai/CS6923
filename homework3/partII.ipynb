{
 "cells": [
  {
   "cell_type": "markdown",
   "metadata": {
    "collapsed": true
   },
   "source": [
    "## CS6923 Machine Learning\n",
    "### Homework 3\n",
    "### Shang-Hung Tsai"
   ]
  },
  {
   "cell_type": "markdown",
   "metadata": {},
   "source": [
    "### Part 2"
   ]
  },
  {
   "cell_type": "markdown",
   "metadata": {},
   "source": [
    "#### 1.<br>\n",
    "![plot](part2_1a.png)"
   ]
  },
  {
   "cell_type": "markdown",
   "metadata": {},
   "source": [
    "(a) <br>\n",
    "Local minimum = -0.364224 <br>\n",
    "Global minimum = 1.595315"
   ]
  },
  {
   "cell_type": "markdown",
   "metadata": {},
   "source": [
    "(b)\n",
    "With $x = -1, \\eta = 0.001, iteration = 5$ <br>\n",
    "After iteration 1, the x = -0.866000 <br>\n",
    "After iteration 2, the x = -0.776295 <br>\n",
    "After iteration 3, the x = -0.710922 <br>\n",
    "After iteration 4, the x = -0.660782 <br>\n",
    "After iteration 5, the x = -0.620972 <br>"
   ]
  },
  {
   "cell_type": "markdown",
   "metadata": {},
   "source": [
    "With $x = -1, \\eta = 0.001, iteration = 1000$ <br>\n",
    "last 5 iterations: <br>\n",
    "After iteration 996, the x = -0.364224 <br>\n",
    "After iteration 997, the x = -0.364224 <br>\n",
    "After iteration 998, the x = -0.364224 <br>\n",
    "After iteration 999, the x = -0.364224 <br>\n",
    "After iteration 1000, the x = -0.364224 <br>"
   ]
  },
  {
   "cell_type": "markdown",
   "metadata": {},
   "source": [
    "The value of x has converged at -0.364224. The gradient descent found a local minimum."
   ]
  },
  {
   "cell_type": "markdown",
   "metadata": {},
   "source": [
    "(c)\n",
    "With $x = 2, \\eta = 0.001, iteration = 5$ <br>\n",
    "After iteration 1, the x = 1.894000 <br>\n",
    "After iteration 2, the x = 1.823848 <br>\n",
    "After iteration 3, the x = 1.774085 <br>\n",
    "After iteration 4, the x = 1.737261 <br>\n",
    "After iteration 5, the x = 1.709229 <br>"
   ]
  },
  {
   "cell_type": "markdown",
   "metadata": {},
   "source": [
    "With $x = 2, \\eta = 0.001, iteration = 1000$ <br>\n",
    "last 5 iterations: <br>\n",
    "After iteration 996, the x = 1.595315 <br>\n",
    "After iteration 997, the x = 1.595315 <br>\n",
    "After iteration 998, the x = 1.595315 <br>\n",
    "After iteration 999, the x = 1.595315 <br>\n",
    "After iteration 1000, the x = 1.595315 <br>"
   ]
  },
  {
   "cell_type": "markdown",
   "metadata": {},
   "source": [
    "The value of x has converged at 1.595315. The gradient descent found a global minimum."
   ]
  },
  {
   "cell_type": "markdown",
   "metadata": {},
   "source": [
    "(d)\n",
    "With $x = -1, \\eta = 0.01, iteration = 1000$ <br>\n",
    "first 5 iterations: <br>\n",
    "After iteration 1, the x = 0.340000 <br>\n",
    "After iteration 2, the x = 0.380221 <br>\n",
    "After iteration 3, the x = 0.444663 <br>\n",
    "After iteration 4, the x = 0.549356 <br>\n",
    "After iteration 5, the x = 0.720866 <br>\n",
    "last 5 iterations: <br>\n",
    "After iteration 996, the x = 1.595315 <br>\n",
    "After iteration 997, the x = 1.595315 <br>\n",
    "After iteration 998, the x = 1.595315 <br>\n",
    "After iteration 999, the x = 1.595315 <br>\n",
    "After iteration 1000, the x = 1.595315 <br>"
   ]
  },
  {
   "cell_type": "markdown",
   "metadata": {},
   "source": [
    "The learning rate was higher than the learning rate in the first experienment. The value of x jumped over to the other valley and found the global minimum."
   ]
  },
  {
   "cell_type": "markdown",
   "metadata": {},
   "source": [
    "(e) The learning rate is too high. The value of x bounced around significantly and eventually went overflow."
   ]
  },
  {
   "cell_type": "markdown",
   "metadata": {},
   "source": [
    "#### 2."
   ]
  },
  {
   "cell_type": "markdown",
   "metadata": {},
   "source": [
    "(a)"
   ]
  },
  {
   "cell_type": "markdown",
   "metadata": {},
   "source": [
    "i. ![plot](part2_2a.png)"
   ]
  },
  {
   "cell_type": "markdown",
   "metadata": {},
   "source": [
    "ii & iii."
   ]
  },
  {
   "cell_type": "markdown",
   "metadata": {},
   "source": [
    "<table>\n",
    "    <tr>\n",
    "        <th style=\"text-align:center\">$\\eta$</th>\n",
    "        <th>0.001</th>\n",
    "        <th>0.01</th> \n",
    "        <th>0.05</th>\n",
    "        <th>0.1</th>\n",
    "        <th>0.5</th>\n",
    "        <th>1.0</th>\n",
    "        <th>1.5</th>\n",
    "    </tr>\n",
    "    <tr>\n",
    "        <td style=\"text-align:center\">Cross-entropy error (training)</td>\n",
    "        <td>102.695001</td>\n",
    "        <td>152.485400</td>\n",
    "        <td>759.863202</td>\n",
    "        <td>930.220967</td>\n",
    "        <td>1024.835574</td>\n",
    "        <td>1047.440783</td>\n",
    "        <td>1056.344492</td>\n",
    "    </tr>\n",
    "    <tr>\n",
    "        <td style=\"text-align:center\">Classification error (training)</td>\n",
    "        <td>0.283333</td>\n",
    "        <td>0.361111</td>\n",
    "        <td>0.361111</td>\n",
    "        <td>0.366667</td>\n",
    "        <td>0.366667</td>\n",
    "        <td>0.366667</td>\n",
    "        <td>0.366667</td>\n",
    "    </tr>\n",
    "    <tr>\n",
    "        <td style=\"text-align:center\">$||w||_2$</td>\n",
    "        <td>2.615655</td>\n",
    "        <td>6.596876</td>\n",
    "        <td>32.759741</td>\n",
    "        <td>65.007503</td>\n",
    "        <td>324.261856</td>\n",
    "        <td>649.271428</td>\n",
    "        <td>973.892726</td>\n",
    "    </tr>\n",
    "</table>"
   ]
  },
  {
   "cell_type": "markdown",
   "metadata": {},
   "source": [
    "(b)"
   ]
  },
  {
   "cell_type": "markdown",
   "metadata": {},
   "source": [
    "i && ii."
   ]
  },
  {
   "cell_type": "markdown",
   "metadata": {},
   "source": [
    "<table>\n",
    "    <tr>\n",
    "        <th style=\"text-align:center\">$\\lambda$</th>\n",
    "        <th>0</th>\n",
    "        <th>0.05</th> \n",
    "        <th>0.1</th>\n",
    "        <th>0.2</th>\n",
    "        <th>0.3</th>\n",
    "        <th>0.4</th>\n",
    "        <th>0.5</th>\n",
    "    </tr>\n",
    "    <tr>\n",
    "        <td style=\"text-align:center\">Cross-entropy error (training)</td>\n",
    "        <td>930.220967</td>\n",
    "        <td>1061.770256</td>\n",
    "        <td>1171.252600</td>\n",
    "        <td>1398.568106</td>\n",
    "        <td>1594.443652</td>\n",
    "        <td>1713.800199</td>\n",
    "        <td>1797.362624</td>\n",
    "    </tr>\n",
    "    <tr>\n",
    "        <td style=\"text-align:center\">Classification error (training)</td>\n",
    "        <td>0.366667</td>\n",
    "        <td>0.388889</td>\n",
    "        <td>0.411111</td>\n",
    "        <td>0.450000</td>\n",
    "        <td>0.483333</td>\n",
    "        <td>0.500000</td>\n",
    "        <td>0.500000</td>\n",
    "    </tr>\n",
    "    <tr>\n",
    "        <td style=\"text-align:center\">Classification error (cross-validation)</td>\n",
    "        <td></td>\n",
    "        <td></td>\n",
    "        <td></td>\n",
    "        <td></td>\n",
    "        <td></td>\n",
    "        <td></td>\n",
    "        <td></td>\n",
    "    </tr>\n",
    "    <tr>\n",
    "        <td style=\"text-align:center\">$||w||_2$</td>\n",
    "        <td>65.007503</td>\n",
    "        <td>61.663682</td>\n",
    "        <td>59.336904</td>\n",
    "        <td>55.464861</td>\n",
    "        <td>49.944850</td>\n",
    "        <td>44.709643</td>\n",
    "        <td>39.795386</td>\n",
    "    </tr>\n",
    "</table>"
   ]
  },
  {
   "cell_type": "markdown",
   "metadata": {},
   "source": [
    "(c) As we increase the value of $\\lambda$, the cross-entropy and classification training error increase. The value of $||w||_2$ gradually decreases. This is as expected, because the regularized term will penalize high weight values. Therefore, we see a drop in the $||w||_2$ values. Even though the training error increases, it actually prevents the classifier from overfitting and helps to generalize better."
   ]
  },
  {
   "cell_type": "markdown",
   "metadata": {},
   "source": [
    "#### 3."
   ]
  },
  {
   "cell_type": "markdown",
   "metadata": {},
   "source": []
  },
  {
   "cell_type": "markdown",
   "metadata": {},
   "source": []
  }
 ],
 "metadata": {
  "kernelspec": {
   "display_name": "Python 3",
   "language": "python",
   "name": "python3"
  },
  "language_info": {
   "codemirror_mode": {
    "name": "ipython",
    "version": 3
   },
   "file_extension": ".py",
   "mimetype": "text/x-python",
   "name": "python",
   "nbconvert_exporter": "python",
   "pygments_lexer": "ipython3",
   "version": "3.5.2"
  }
 },
 "nbformat": 4,
 "nbformat_minor": 1
}
