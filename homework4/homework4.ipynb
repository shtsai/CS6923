{
 "cells": [
  {
   "cell_type": "markdown",
   "metadata": {
    "collapsed": true
   },
   "source": [
    "## CS6923 Machine Learning\n",
    "### Homework 4\n",
    "### Shang-Hung Tsai"
   ]
  },
  {
   "cell_type": "markdown",
   "metadata": {},
   "source": [
    "#### 1.\n",
    "(a)\n",
    "The dataset with 3 positive exampls and 5 negative examples will have higher entropy, because there is more uncertainty in the dataset."
   ]
  },
  {
   "cell_type": "markdown",
   "metadata": {},
   "source": [
    "(b)"
   ]
  },
  {
   "cell_type": "markdown",
   "metadata": {},
   "source": [
    "$$ Entropy(S) = - (\\frac{3}{6} log_2 {\\frac{3}{6}} + \\frac{3}{6} log_2 {\\frac{3}{6}}) = 1$$"
   ]
  },
  {
   "cell_type": "markdown",
   "metadata": {},
   "source": [
    "$$\\sum_{v \\in V}{\\frac{|S_v|}{|S|}Entropy(S_v)} = (\\frac{3}{6}*-(\\frac{2}{3} log_2 {\\frac{2}{3}} + \\frac{1}{3} log_2 {\\frac{1}{3}})) + (\\frac{3}{6}*-(\\frac{1}{3} log_2 {\\frac{1}{3}} + \\frac{2}{3} log_2 {\\frac{2}{3}})) \\\\ \n",
    "= (\\frac{1}{2} * 0.9183) + (\\frac{1}{2} * 0.9183) = 0.9183$$"
   ]
  },
  {
   "cell_type": "markdown",
   "metadata": {},
   "source": [
    "$$Information-Gain(S) = Entropy(S) - \\sum_{v \\in V}{\\frac{|S_v|}{|S|}Entropy(S_v)} = 1 - 0.9183 = 0.0817$$"
   ]
  },
  {
   "cell_type": "markdown",
   "metadata": {},
   "source": [
    "(c)\n",
    "\n",
    "First Decision:"
   ]
  },
  {
   "cell_type": "markdown",
   "metadata": {},
   "source": [
    "$x_1$: $$\\sum_{v \\in V}{\\frac{|S_v|}{|S|}Entropy(S_v)} = (\\frac{3}{6}*-(\\frac{2}{3} log_2 {\\frac{2}{3}} + \\frac{1}{3} log_2 {\\frac{1}{3}})) + (\\frac{3}{6}*-(\\frac{1}{3} log_2 {\\frac{1}{3}} + \\frac{2}{3} log_2 {\\frac{2}{3}})) \\\\ \n",
    "= (\\frac{1}{2} * 0.9183) + (\\frac{1}{2} * 0.9183) = 0.9183$$"
   ]
  },
  {
   "cell_type": "markdown",
   "metadata": {},
   "source": [
    "$x_2$: $$\\sum_{v \\in V}{\\frac{|S_v|}{|S|}Entropy(S_v)} = (\\frac{2}{6}*-(\\frac{1}{2} log_2 {\\frac{1}{2}} + \\frac{1}{2} log_2 {\\frac{1}{2}})) + (\\frac{4}{6}*-(\\frac{2}{4} log_2 {\\frac{2}{4}} + \\frac{2}{4} log_2 {\\frac{2}{4}})) \\\\ \n",
    "= (\\frac{1}{3} * 0.9183) + (\\frac{2}{3} * 1) = 0.9728 $$"
   ]
  },
  {
   "cell_type": "markdown",
   "metadata": {},
   "source": [
    "$x_3$: $$\\sum_{v \\in V}{\\frac{|S_v|}{|S|}Entropy(S_v)} = (\\frac{2}{6}*-(\\frac{1}{2} log_2 {\\frac{1}{2}} + \\frac{1}{2} log_2 {\\frac{1}{2}})) + (\\frac{4}{6}*-(\\frac{2}{4} log_2 {\\frac{2}{4}} + \\frac{2}{4} log_2 {\\frac{2}{4}})) \\\\ \n",
    "= (\\frac{1}{3} * 1) + (\\frac{2}{3} * 1) = 1$$"
   ]
  },
  {
   "cell_type": "markdown",
   "metadata": {},
   "source": [
    "Therefore, we will use $x_1$ on the first decision."
   ]
  },
  {
   "cell_type": "markdown",
   "metadata": {},
   "source": [
    "When $x_1$ is T, the remaining data is:\n",
    "<table>\n",
    "    <tr>\n",
    "        <th></th>      \n",
    "        <th>$x_2$</th>\n",
    "        <th>$x_3$</th>        \n",
    "        <th>$r$</th>\n",
    "    </tr>\n",
    "    <tr>\n",
    "        <th>$x^{(1)}$</th>    \n",
    "        <th>$F$</th>\n",
    "        <th>$F$</th>        \n",
    "        <th>$+$</th>\n",
    "    </tr>\n",
    "    <tr>\n",
    "        <th>$x^{(3)}$</th>    \n",
    "        <th>$T$</th>\n",
    "        <th>$F$</th>        \n",
    "        <th>$-$</th>\n",
    "    </tr>\n",
    "    <tr>\n",
    "        <th>$x^{(4)}$</th>      \n",
    "        <th>$F$</th>\n",
    "        <th>$T$</th>        \n",
    "        <th>$+$</th>\n",
    "    </tr>    \n",
    "</table>"
   ]
  },
  {
   "cell_type": "markdown",
   "metadata": {},
   "source": [
    "Second Decision when $x_1$ is T:"
   ]
  },
  {
   "cell_type": "markdown",
   "metadata": {},
   "source": [
    "$x_2$: $$\\sum_{v \\in V}{\\frac{|S_v|}{|S|}Entropy(S_v)} = (\\frac{1}{3}*-(0 * log_2 {0} + 1 * log_2 {1})) + (\\frac{2}{3}*-(\\frac{2}{2} log_2 {\\frac{2}{2}} + 0 * log_2 {0})) \\\\ \n",
    "= 0 + 0 = 0 $$"
   ]
  },
  {
   "cell_type": "markdown",
   "metadata": {},
   "source": [
    "$x_3$: $$\\sum_{v \\in V}{\\frac{|S_v|}{|S|}Entropy(S_v)} = (\\frac{1}{3}*-(\\frac{1}{1} log_2 {\\frac{1}{1}} + 0 * log_2 {0})) + (\\frac{2}{3}*-(\\frac{1}{2} log_2 {\\frac{1}{2}} + \\frac{1}{2} log_2 {\\frac{1}{2}})) \\\\ \n",
    "= 0 + (\\frac{2}{3} * 1) = 0.6667 $$"
   ]
  },
  {
   "cell_type": "markdown",
   "metadata": {},
   "source": [
    "Therefore, we will use $x_2$ as the second desicion when $x_1$ is T."
   ]
  },
  {
   "cell_type": "markdown",
   "metadata": {},
   "source": [
    "When $x_1$ is F, the remaining data is:\n",
    "<table>\n",
    "    <tr>\n",
    "        <th></th>       \n",
    "        <th>$x_2$</th>\n",
    "        <th>$x_3$</th>        \n",
    "        <th>$r$</th>\n",
    "    </tr>\n",
    "    <tr>\n",
    "        <th>$x^{(2)}$</th>        \n",
    "        <th>$T$</th>\n",
    "        <th>$F$</th>        \n",
    "        <th>$+$</th>\n",
    "    </tr>\n",
    "    <tr>\n",
    "        <th>$x^{(5)}$</th>  \n",
    "        <th>$F$</th>\n",
    "        <th>$T$</th>        \n",
    "        <th>$-$</th>\n",
    "    </tr>\n",
    "    <tr>\n",
    "        <th>$x^{(6)}$</th>  \n",
    "        <th>$F$</th>\n",
    "        <th>$F$</th>        \n",
    "        <th>$-$</th>\n",
    "    </tr>    \n",
    "</table>"
   ]
  },
  {
   "cell_type": "markdown",
   "metadata": {},
   "source": [
    "Second Decision when $x_1$ is F:"
   ]
  },
  {
   "cell_type": "markdown",
   "metadata": {},
   "source": [
    "$x_2$: $$\\sum_{v \\in V}{\\frac{|S_v|}{|S|}Entropy(S_v)} = (\\frac{1}{3}*-(\\frac{1}{1} * log_2 {\\frac{1}{1}} + 0 * log_2 {0})) + (\\frac{2}{3}*-(0 * log_2 {0} + \\frac{2}{2} log_2 {\\frac{2}{2}})) \\\\ \n",
    "= 0 + 0 = 0 $$"
   ]
  },
  {
   "cell_type": "markdown",
   "metadata": {},
   "source": [
    "$x_3$: $$\\sum_{v \\in V}{\\frac{|S_v|}{|S|}Entropy(S_v)} = (\\frac{1}{3}*-(0 * log_2 {0} + \\frac{1}{1} log_2 {\\frac{1}{1}})) + (\\frac{2}{3}*-(\\frac{1}{2} log_2 {\\frac{1}{2}} + \\frac{1}{2} log_2 {\\frac{1}{2}})) \\\\ \n",
    "= 0 + (\\frac{2}{3} * 1) = 0.6667 $$"
   ]
  },
  {
   "cell_type": "markdown",
   "metadata": {},
   "source": [
    "Therefore, we will use $x_2$ as the second desicion when $x_1$ is F."
   ]
  },
  {
   "cell_type": "markdown",
   "metadata": {},
   "source": [
    "The above decision tree achieves 0% training error on the dataset."
   ]
  },
  {
   "cell_type": "markdown",
   "metadata": {},
   "source": [
    "The resulting tree is:\n",
    "\n",
    "                                [X_1]\n",
    "                                /   \\\n",
    "                            T  /     \\  F\n",
    "                          [x_2]      [x_2] \n",
    "                           / \\        / \\\n",
    "                        T /   \\ F   T/   \\ F\n",
    "                 r       -     +    +     -"
   ]
  },
  {
   "cell_type": "markdown",
   "metadata": {},
   "source": []
  }
 ],
 "metadata": {
  "kernelspec": {
   "display_name": "Python 3",
   "language": "python",
   "name": "python3"
  },
  "language_info": {
   "codemirror_mode": {
    "name": "ipython",
    "version": 3
   },
   "file_extension": ".py",
   "mimetype": "text/x-python",
   "name": "python",
   "nbconvert_exporter": "python",
   "pygments_lexer": "ipython3",
   "version": "3.5.2"
  }
 },
 "nbformat": 4,
 "nbformat_minor": 1
}
