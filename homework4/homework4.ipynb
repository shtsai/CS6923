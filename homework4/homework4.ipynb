{
 "cells": [
  {
   "cell_type": "markdown",
   "metadata": {
    "collapsed": true
   },
   "source": [
    "## CS6923 Machine Learning\n",
    "### Homework 4\n",
    "### Shang-Hung Tsai"
   ]
  },
  {
   "cell_type": "markdown",
   "metadata": {},
   "source": [
    "#### 1.\n",
    "(a)\n",
    "The dataset with 3 positive exampls and 5 negative examples will have higher entropy, because there is more uncertainty in the dataset."
   ]
  },
  {
   "cell_type": "markdown",
   "metadata": {},
   "source": [
    "(b)"
   ]
  },
  {
   "cell_type": "markdown",
   "metadata": {},
   "source": [
    "$$ Entropy(S) = - (\\frac{3}{6} log_2 {\\frac{3}{6}} + \\frac{3}{6} log_2 {\\frac{3}{6}}) = 1$$"
   ]
  },
  {
   "cell_type": "markdown",
   "metadata": {},
   "source": [
    "$$\\sum_{v \\in V}{\\frac{|S_v|}{|S|}Entropy(S_v)} = (\\frac{3}{6}*-(\\frac{2}{3} log_2 {\\frac{2}{3}} + \\frac{1}{3} log_2 {\\frac{1}{3}})) + (\\frac{3}{6}*-(\\frac{1}{3} log_2 {\\frac{1}{3}} + \\frac{2}{3} log_2 {\\frac{2}{3}})) \\\\ \n",
    "= (\\frac{1}{2} * 0.9183) + (\\frac{1}{2} * 0.9183) = 0.9183$$"
   ]
  },
  {
   "cell_type": "markdown",
   "metadata": {},
   "source": [
    "$$Information-Gain(S) = Entropy(S) - \\sum_{v \\in V}{\\frac{|S_v|}{|S|}Entropy(S_v)} = 1 - 0.9183 = 0.0817$$"
   ]
  },
  {
   "cell_type": "markdown",
   "metadata": {},
   "source": [
    "(c)  \n",
    "First Decision:"
   ]
  },
  {
   "cell_type": "markdown",
   "metadata": {},
   "source": [
    "$x_1$: $$\\sum_{v \\in V}{\\frac{|S_v|}{|S|}Entropy(S_v)} = (\\frac{3}{6}*-(\\frac{2}{3} log_2 {\\frac{2}{3}} + \\frac{1}{3} log_2 {\\frac{1}{3}})) + (\\frac{3}{6}*-(\\frac{1}{3} log_2 {\\frac{1}{3}} + \\frac{2}{3} log_2 {\\frac{2}{3}})) \\\\ \n",
    "= (\\frac{1}{2} * 0.9183) + (\\frac{1}{2} * 0.9183) = 0.9183$$"
   ]
  },
  {
   "cell_type": "markdown",
   "metadata": {},
   "source": [
    "$x_2$: $$\\sum_{v \\in V}{\\frac{|S_v|}{|S|}Entropy(S_v)} = (\\frac{2}{6}*-(\\frac{1}{2} log_2 {\\frac{1}{2}} + \\frac{1}{2} log_2 {\\frac{1}{2}})) + (\\frac{4}{6}*-(\\frac{2}{4} log_2 {\\frac{2}{4}} + \\frac{2}{4} log_2 {\\frac{2}{4}})) \\\\ \n",
    "= (\\frac{1}{3} * 0.9183) + (\\frac{2}{3} * 1) = 0.9728 $$"
   ]
  },
  {
   "cell_type": "markdown",
   "metadata": {},
   "source": [
    "$x_3$: $$\\sum_{v \\in V}{\\frac{|S_v|}{|S|}Entropy(S_v)} = (\\frac{2}{6}*-(\\frac{1}{2} log_2 {\\frac{1}{2}} + \\frac{1}{2} log_2 {\\frac{1}{2}})) + (\\frac{4}{6}*-(\\frac{2}{4} log_2 {\\frac{2}{4}} + \\frac{2}{4} log_2 {\\frac{2}{4}})) \\\\ \n",
    "= (\\frac{1}{3} * 1) + (\\frac{2}{3} * 1) = 1$$"
   ]
  },
  {
   "cell_type": "markdown",
   "metadata": {},
   "source": [
    "Therefore, we will use $x_1$ on the first decision."
   ]
  },
  {
   "cell_type": "markdown",
   "metadata": {},
   "source": [
    "When $x_1$ is T, the remaining data is:\n",
    "<table>\n",
    "    <tr>\n",
    "        <th></th>      \n",
    "        <th>$x_2$</th>\n",
    "        <th>$x_3$</th>        \n",
    "        <th>$r$</th>\n",
    "    </tr>\n",
    "    <tr>\n",
    "        <th>$x^{(1)}$</th>    \n",
    "        <th>$F$</th>\n",
    "        <th>$F$</th>        \n",
    "        <th>$+$</th>\n",
    "    </tr>\n",
    "    <tr>\n",
    "        <th>$x^{(3)}$</th>    \n",
    "        <th>$T$</th>\n",
    "        <th>$F$</th>        \n",
    "        <th>$-$</th>\n",
    "    </tr>\n",
    "    <tr>\n",
    "        <th>$x^{(4)}$</th>      \n",
    "        <th>$F$</th>\n",
    "        <th>$T$</th>        \n",
    "        <th>$+$</th>\n",
    "    </tr>    \n",
    "</table>"
   ]
  },
  {
   "cell_type": "markdown",
   "metadata": {},
   "source": [
    "Second Decision when $x_1$ is T:"
   ]
  },
  {
   "cell_type": "markdown",
   "metadata": {},
   "source": [
    "$x_2$: $$\\sum_{v \\in V}{\\frac{|S_v|}{|S|}Entropy(S_v)} = (\\frac{1}{3}*-(0 * log_2 {0} + 1 * log_2 {1})) + (\\frac{2}{3}*-(\\frac{2}{2} log_2 {\\frac{2}{2}} + 0 * log_2 {0})) \\\\ \n",
    "= 0 + 0 = 0 $$"
   ]
  },
  {
   "cell_type": "markdown",
   "metadata": {},
   "source": [
    "$x_3$: $$\\sum_{v \\in V}{\\frac{|S_v|}{|S|}Entropy(S_v)} = (\\frac{1}{3}*-(\\frac{1}{1} log_2 {\\frac{1}{1}} + 0 * log_2 {0})) + (\\frac{2}{3}*-(\\frac{1}{2} log_2 {\\frac{1}{2}} + \\frac{1}{2} log_2 {\\frac{1}{2}})) \\\\ \n",
    "= 0 + (\\frac{2}{3} * 1) = 0.6667 $$"
   ]
  },
  {
   "cell_type": "markdown",
   "metadata": {},
   "source": [
    "Therefore, we will use $x_2$ as the second desicion when $x_1$ is T."
   ]
  },
  {
   "cell_type": "markdown",
   "metadata": {},
   "source": [
    "When $x_1$ is F, the remaining data is:\n",
    "<table>\n",
    "    <tr>\n",
    "        <th></th>       \n",
    "        <th>$x_2$</th>\n",
    "        <th>$x_3$</th>        \n",
    "        <th>$r$</th>\n",
    "    </tr>\n",
    "    <tr>\n",
    "        <th>$x^{(2)}$</th>        \n",
    "        <th>$T$</th>\n",
    "        <th>$F$</th>        \n",
    "        <th>$+$</th>\n",
    "    </tr>\n",
    "    <tr>\n",
    "        <th>$x^{(5)}$</th>  \n",
    "        <th>$F$</th>\n",
    "        <th>$T$</th>        \n",
    "        <th>$-$</th>\n",
    "    </tr>\n",
    "    <tr>\n",
    "        <th>$x^{(6)}$</th>  \n",
    "        <th>$F$</th>\n",
    "        <th>$F$</th>        \n",
    "        <th>$-$</th>\n",
    "    </tr>    \n",
    "</table>"
   ]
  },
  {
   "cell_type": "markdown",
   "metadata": {},
   "source": [
    "Second Decision when $x_1$ is F:"
   ]
  },
  {
   "cell_type": "markdown",
   "metadata": {},
   "source": [
    "$x_2$: $$\\sum_{v \\in V}{\\frac{|S_v|}{|S|}Entropy(S_v)} = (\\frac{1}{3}*-(\\frac{1}{1} * log_2 {\\frac{1}{1}} + 0 * log_2 {0})) + (\\frac{2}{3}*-(0 * log_2 {0} + \\frac{2}{2} log_2 {\\frac{2}{2}})) \\\\ \n",
    "= 0 + 0 = 0 $$"
   ]
  },
  {
   "cell_type": "markdown",
   "metadata": {},
   "source": [
    "$x_3$: $$\\sum_{v \\in V}{\\frac{|S_v|}{|S|}Entropy(S_v)} = (\\frac{1}{3}*-(0 * log_2 {0} + \\frac{1}{1} log_2 {\\frac{1}{1}})) + (\\frac{2}{3}*-(\\frac{1}{2} log_2 {\\frac{1}{2}} + \\frac{1}{2} log_2 {\\frac{1}{2}})) \\\\ \n",
    "= 0 + (\\frac{2}{3} * 1) = 0.6667 $$"
   ]
  },
  {
   "cell_type": "markdown",
   "metadata": {},
   "source": [
    "Therefore, we will use $x_2$ as the second desicion when $x_1$ is F."
   ]
  },
  {
   "cell_type": "markdown",
   "metadata": {},
   "source": [
    "The above decision tree achieves 0% training error on the dataset."
   ]
  },
  {
   "cell_type": "markdown",
   "metadata": {},
   "source": [
    "The resulting tree is:\n",
    "\n",
    "                                [X_1]\n",
    "                                /   \\\n",
    "                            T  /     \\  F\n",
    "                          [x_2]      [x_2] \n",
    "                           / \\        / \\\n",
    "                        T /   \\ F   T/   \\ F\n",
    "                 r       -     +    +     -"
   ]
  },
  {
   "cell_type": "markdown",
   "metadata": {},
   "source": [
    "(d)"
   ]
  },
  {
   "cell_type": "markdown",
   "metadata": {},
   "source": [
    "$$H(X) = -(\\frac{3}{6} log_2{\\frac{3}{6}} + \\frac{3}{6} log_2{\\frac{3}{6}}) = 1$$"
   ]
  },
  {
   "cell_type": "markdown",
   "metadata": {},
   "source": [
    "$$H(Y|X) = \\frac{3}{6}*(-\\frac{2}{3}log_2{\\frac{2}{3}}-\\frac{1}{3}log_2{\\frac{1}{3}}) + \\frac{3}{6}*(-\\frac{1}{3}log_2{\\frac{1}{3}}-\\frac{2}{3}log_2{\\frac{2}{3}}) \\\\\n",
    "= 0.9183 $$"
   ]
  },
  {
   "cell_type": "markdown",
   "metadata": {},
   "source": [
    "$$ H(X) - H(Y|X) = 1 - 0.9183 = 0.0817 $$"
   ]
  },
  {
   "cell_type": "markdown",
   "metadata": {},
   "source": [
    "(e)  \n",
    "The first attribute is likely to have a higher information gain because it has a much larger number of possible values (i.e. $10^9$), while the other attribute only has two possible values.  \n",
    "\n",
    "We would not want to place the first attribute into a node in our decision tree because the 9-digit driver's license number has no real meanings in this classification problem. If we use this attribute, the decision tree will just memorize the training data, and it leads to overfitting."
   ]
  },
  {
   "cell_type": "markdown",
   "metadata": {},
   "source": [
    "#### 2.\n",
    "(a)\n",
    "$$100 * 500 = 50000$$"
   ]
  },
  {
   "cell_type": "markdown",
   "metadata": {},
   "source": [
    "(b)"
   ]
  },
  {
   "cell_type": "markdown",
   "metadata": {},
   "source": [
    "i. \n",
    "\n",
    "For $i \\in \\{1, 2\\}$:\n",
    "$$\\Delta v_{ih} = - \\eta\\frac{\\partial E(W, v|X)}{\\partial v_{ih}} \\\\\n",
    "= - \\eta\\frac{\\partial}{\\partial v_{ih}} \\frac{1}{2}\\big[ (r_1-y_1)^2 + (r_2-y_2)^2 + 5(r_3-y_3)^2 \\big] \\\\\n",
    "= - \\eta\\frac{\\partial}{\\partial v_{ih}} \\frac{1}{2}(r_1-y_1)^2 + \\frac{1}{2}(r_2-y_2)^2 + \\frac{5}{2}(r_3-y_3)^2 \\\\\n",
    "= - \\eta (r_i-y_i)(-\\frac{\\partial y_i}{\\partial v_{ih}}) \\\\\n",
    "= \\eta (r_i-y_i)z_h\n",
    "$$"
   ]
  },
  {
   "cell_type": "markdown",
   "metadata": {},
   "source": [
    "For $i = 3$:\n",
    "$$\\Delta v_{3h} = - \\eta\\frac{\\partial E(W, v|X)}{\\partial v_{3h}} \\\\\n",
    "= - \\eta\\frac{\\partial}{\\partial v_{3h}} \\frac{1}{2}\\big[ (r_1-y_1)^2 + (r_2-y_2)^2 + 5(r_3-y_3)^2 \\big] \\\\\n",
    "= - \\eta\\frac{\\partial}{\\partial v_{3h}} \\frac{1}{2}(r_1-y_1)^2 + \\frac{1}{2}(r_2-y_2)^2 + \\frac{5}{2}(r_3-y_3)^2 \\\\\n",
    "= - \\eta 5(r_3-y_3)(-\\frac{\\partial y_3}{\\partial v_{3h}}) \\\\\n",
    "= 5\\eta (r_3-y_3)z_h\n",
    "$$"
   ]
  },
  {
   "cell_type": "markdown",
   "metadata": {},
   "source": [
    "ii. ???\n",
    "\n",
    "$$\\Delta w_{hj} = - \\eta\\frac{\\partial E}{\\partial W_{hj}} \\\\\n",
    "= - \\eta \\sum_t{\\frac{\\partial E^t}{\\partial y^t}\\frac{\\partial y^t}{\\partial z^t_h}\\frac{\\partial z^t_h}{\\partial w_{hj}}}\n",
    "$$"
   ]
  },
  {
   "cell_type": "markdown",
   "metadata": {},
   "source": [
    "TODO"
   ]
  },
  {
   "cell_type": "markdown",
   "metadata": {},
   "source": [
    "#### 3.  \n",
    "(a) By using NeuralNetRZeroOne, we can make sure that each output value is within the interval\\[0,1\\]. On the other hand, NerualNetRK does not guarantee that."
   ]
  },
  {
   "cell_type": "markdown",
   "metadata": {},
   "source": [
    "(b) We use NeuralNetZeroOne because this is a regression problem, and we will minimize the squared error. NeuralNetCK is not appropriate here because it solves classification problem and it uses cross-entropy as the error function."
   ]
  },
  {
   "cell_type": "markdown",
   "metadata": {},
   "source": [
    "(c)  \n",
    "i.a.  \n",
    "epoch 10: err 0.175075  \n",
    "epoch 20: err 0.168263  \n",
    "epoch 30: err 0.166156  \n",
    "epoch 50: err 0.162933  \n",
    "The error is decreasing."
   ]
  },
  {
   "cell_type": "markdown",
   "metadata": {},
   "source": [
    "i.b.  \n",
    "epoch 4999: err 0.000030"
   ]
  },
  {
   "cell_type": "markdown",
   "metadata": {},
   "source": [
    "i.c.  \n",
    "$y_1 = 0.007032$  \n",
    "$y_2 = 0.992715$  \n",
    "$y_3 = 0.992655$  \n",
    "$y_4 = 0.008992$  "
   ]
  },
  {
   "cell_type": "markdown",
   "metadata": {},
   "source": [
    "ii.  \n",
    "epoch 0: err 0.112072  \n",
    "epoch 9999: err 0.000012  \n",
    "TODO"
   ]
  },
  {
   "cell_type": "markdown",
   "metadata": {},
   "source": [
    "iii.  \n",
    "epoch 0: err 0.030797  \n",
    "epoch 3999: err 0.000167  "
   ]
  },
  {
   "cell_type": "markdown",
   "metadata": {},
   "source": [
    "iv.  \n",
    "TODO"
   ]
  },
  {
   "cell_type": "markdown",
   "metadata": {},
   "source": [
    "v.  \n",
    "The arithmetic expression \"x/np.pi\" is being used to scale the inputs to be between -1 and 1.  \n",
    "The expression \"(np.cos(x) + 1)/2\" is being used to scale the outputs.  \n",
    "TODO"
   ]
  },
  {
   "cell_type": "markdown",
   "metadata": {},
   "source": []
  },
  {
   "cell_type": "markdown",
   "metadata": {},
   "source": []
  },
  {
   "cell_type": "markdown",
   "metadata": {},
   "source": []
  },
  {
   "cell_type": "markdown",
   "metadata": {},
   "source": []
  },
  {
   "cell_type": "markdown",
   "metadata": {},
   "source": []
  }
 ],
 "metadata": {
  "kernelspec": {
   "display_name": "Python 3",
   "language": "python",
   "name": "python3"
  },
  "language_info": {
   "codemirror_mode": {
    "name": "ipython",
    "version": 3
   },
   "file_extension": ".py",
   "mimetype": "text/x-python",
   "name": "python",
   "nbconvert_exporter": "python",
   "pygments_lexer": "ipython3",
   "version": "3.6.5"
  }
 },
 "nbformat": 4,
 "nbformat_minor": 1
}
